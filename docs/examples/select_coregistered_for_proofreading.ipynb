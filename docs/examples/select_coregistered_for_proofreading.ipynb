{
 "cells": [
  {
   "cell_type": "markdown",
   "id": "89d1de39-24c0-40e4-8af0-5efc14bc7a41",
   "metadata": {},
   "source": [
    "# Select a subset of cells for proofreading\n",
    "In this example, we select the functionally-coregistered excitatory cells without proofreading as potential proofreading targets. Includes use of:\n",
    "* CAVE materialize.tables  \n",
    "* pd.merge  \n",
    "* pd.query\n",
    "* np.random\n",
    "* nglui statebuilders"
   ]
  },
  {
   "cell_type": "code",
   "execution_count": 22,
   "id": "5872f029-2476-4f89-8386-b59cfa558b05",
   "metadata": {
    "tags": []
   },
   "outputs": [],
   "source": [
    "import numpy as np\n",
    "import pandas as pd \n",
    "\n",
    "from datetime import datetime\n",
    "from caveclient import CAVEclient"
   ]
  },
  {
   "cell_type": "markdown",
   "id": "450a9680-8e9a-4371-85bd-c0853b022d7c",
   "metadata": {},
   "source": [
    "First, we'll need to initialize a CAVE client, here for the \"minnie65_phase3_v1\" dataset. If you don't have access to this dataset you can plug in your own dataset and neurons to follow along."
   ]
  },
  {
   "cell_type": "code",
   "execution_count": 2,
   "id": "5ecaea57-5a03-423e-b914-24b403159be0",
   "metadata": {
    "tags": []
   },
   "outputs": [],
   "source": [
    "# Initialize a client for the \"minnie65_phase3_v1\" datastack.\n",
    "client = CAVEclient(datastack_name='minnie65_phase3_v1')\n",
    "\n",
    "# set preferred voxel resolution, for consistency\n",
    "voxel_resolution = np.array([4,4,40])\n",
    "\n",
    "# set materialization version, for consistency\n",
    "materialization = 1007 # 3/26/2024"
   ]
  },
  {
   "cell_type": "markdown",
   "id": "565ec86b-f151-4c5e-83f0-8f3a81bfd087",
   "metadata": {},
   "source": [
    "## Query CAVE tables"
   ]
  },
  {
   "cell_type": "markdown",
   "id": "4887d313-3b12-4b0c-b24f-2ca65681157d",
   "metadata": {},
   "source": [
    "### Coregistered cells\n",
    "The neurons in the dataset that have both functional recordings and EM reconstructions"
   ]
  },
  {
   "cell_type": "code",
   "execution_count": 3,
   "id": "75fbca45-fbd1-4a0f-b1aa-f13eced41dc6",
   "metadata": {
    "tags": []
   },
   "outputs": [
    {
     "name": "stderr",
     "output_type": "stream",
     "text": [
      "The `client.materialize.tables` interface is experimental and might experience breaking changes before the feature is stabilized.\n"
     ]
    }
   ],
   "source": [
    "coreg_table = client.materialize.tables.coregistration_manual_v3().query(\n",
    "    select_columns={'nucleus_detection_v0': ['id','pt_root_id','pt_supervoxel_id','pt_position'], # from the reference table\n",
    "                    'coregistration_manual_v3': ['session', 'scan_idx','unit_id','field']},  # functional information\n",
    "    desired_resolution=voxel_resolution,\n",
    "    materialization_version=materialization,\n",
    "    split_positions=True, # here the XYZ positions are split for later filtering\n",
    "    )\n",
    "\n",
    "# Drop duplicates (due to multiple recordings of the same cell)\n",
    "coreg_table.drop_duplicates(subset=['pt_root_id'], keep='first', inplace=True)"
   ]
  },
  {
   "cell_type": "markdown",
   "id": "ceb9dad0-ff13-4de5-a021-4bcb16dc8e0f",
   "metadata": {},
   "source": [
    "### Cell types table\n",
    "Using the soma-nucleus feature classifier, which predicts both broad cell classification and cell sub-types. All functional cell should be excitatory, but we will remove the edge cases that are not.  "
   ]
  },
  {
   "cell_type": "code",
   "execution_count": 4,
   "id": "e7d1fe15-63fb-4555-8e3b-e0b7e665702b",
   "metadata": {
    "tags": []
   },
   "outputs": [
    {
     "name": "stderr",
     "output_type": "stream",
     "text": [
      "The `client.materialize.tables` interface is experimental and might experience breaking changes before the feature is stabilized.\n"
     ]
    }
   ],
   "source": [
    "ct_table = client.materialize.tables.aibs_metamodel_celltypes_v661().query(\n",
    "    select_columns={'nucleus_detection_v0': ['id','pt_root_id','pt_position'], # from the reference table\n",
    "                    'aibs_metamodel_celltypes_v661': ['classification_system', 'cell_type']}, # classifier information\n",
    "    materialization_version=materialization,\n",
    "    desired_resolution=voxel_resolution)\n",
    "\n",
    "# remove root_id=0\n",
    "ct_table = ct_table.query('pt_root_id!=0')\n",
    "\n",
    "# drop duplicate segment ids (due to soma merges)\n",
    "ct_table.drop_duplicates(subset=['pt_root_id'], keep='first', inplace=True)"
   ]
  },
  {
   "cell_type": "markdown",
   "id": "be0ca1cd-4357-4c48-a841-dedf4c2baa62",
   "metadata": {},
   "source": [
    "### Proofread cells\n",
    "Cells that have been labeled as proofread. We want to exclude cells that already have complete axons from further proofreading. "
   ]
  },
  {
   "cell_type": "code",
   "execution_count": 5,
   "id": "cb1eac6a-060a-4b97-b010-148852264d00",
   "metadata": {
    "tags": []
   },
   "outputs": [
    {
     "name": "stderr",
     "output_type": "stream",
     "text": [
      "The `client.materialize.tables` interface is experimental and might experience breaking changes before the feature is stabilized.\n"
     ]
    }
   ],
   "source": [
    "prf_table = client.materialize.tables.proofreading_status_public_release().query(\n",
    "    select_columns=['pt_root_id', 'status_dendrite', 'status_axon',],\n",
    "    desired_resolution=voxel_resolution,\n",
    "    materialization_version=materialization,\n",
    "    )\n",
    "\n",
    "# Select only the axon extended cells (will be excluded from consideration)\n",
    "prf_table.query(\"status_axon=='extended'\", inplace=True)"
   ]
  },
  {
   "cell_type": "markdown",
   "id": "24f1b68c-720b-4173-a837-a816ee42adeb",
   "metadata": {},
   "source": [
    "## Combine and filter tables"
   ]
  },
  {
   "cell_type": "markdown",
   "id": "5c5ff021-d6fd-48e3-9b18-fb862048ea7f",
   "metadata": {
    "tags": []
   },
   "source": [
    "### keep coregistered cells that are also excitatory\n",
    "Note that the removed cells could be either 1) misclassified excitatory cells (more likely) or 2) mis-registered functional cells. We make no judgement here and exclude all for now."
   ]
  },
  {
   "cell_type": "code",
   "execution_count": 9,
   "id": "3c370626-2650-44d9-9d9c-ad2968a5c98e",
   "metadata": {
    "tags": []
   },
   "outputs": [
    {
     "data": {
      "text/html": [
       "<div>\n",
       "<style scoped>\n",
       "    .dataframe tbody tr th:only-of-type {\n",
       "        vertical-align: middle;\n",
       "    }\n",
       "\n",
       "    .dataframe tbody tr th {\n",
       "        vertical-align: top;\n",
       "    }\n",
       "\n",
       "    .dataframe thead th {\n",
       "        text-align: right;\n",
       "    }\n",
       "</style>\n",
       "<table border=\"1\" class=\"dataframe\">\n",
       "  <thead>\n",
       "    <tr style=\"text-align: right;\">\n",
       "      <th></th>\n",
       "      <th>id</th>\n",
       "      <th>pt_root_id</th>\n",
       "      <th>pt_supervoxel_id</th>\n",
       "      <th>pt_position_x</th>\n",
       "      <th>pt_position_y</th>\n",
       "      <th>pt_position_z</th>\n",
       "      <th>session</th>\n",
       "      <th>scan_idx</th>\n",
       "      <th>unit_id</th>\n",
       "      <th>field</th>\n",
       "      <th>cell_type</th>\n",
       "      <th>pt_position</th>\n",
       "    </tr>\n",
       "  </thead>\n",
       "  <tbody>\n",
       "    <tr>\n",
       "      <th>11976</th>\n",
       "      <td>395416</td>\n",
       "      <td>864691135394864117</td>\n",
       "      <td>97825062761246370</td>\n",
       "      <td>240528</td>\n",
       "      <td>154032</td>\n",
       "      <td>25770</td>\n",
       "      <td>9</td>\n",
       "      <td>3</td>\n",
       "      <td>2456</td>\n",
       "      <td>2</td>\n",
       "      <td>4P</td>\n",
       "      <td>[240528, 154032, 25770]</td>\n",
       "    </tr>\n",
       "    <tr>\n",
       "      <th>11977</th>\n",
       "      <td>485825</td>\n",
       "      <td>864691136966674894</td>\n",
       "      <td>105277895836000216</td>\n",
       "      <td>294512</td>\n",
       "      <td>107648</td>\n",
       "      <td>23083</td>\n",
       "      <td>5</td>\n",
       "      <td>6</td>\n",
       "      <td>1538</td>\n",
       "      <td>2</td>\n",
       "      <td>23P</td>\n",
       "      <td>[294512, 107648, 23083]</td>\n",
       "    </tr>\n",
       "    <tr>\n",
       "      <th>11978</th>\n",
       "      <td>298963</td>\n",
       "      <td>864691135783565875</td>\n",
       "      <td>91354023978086624</td>\n",
       "      <td>193408</td>\n",
       "      <td>175408</td>\n",
       "      <td>21696</td>\n",
       "      <td>6</td>\n",
       "      <td>7</td>\n",
       "      <td>6479</td>\n",
       "      <td>6</td>\n",
       "      <td>4P</td>\n",
       "      <td>[193408, 175408, 21696]</td>\n",
       "    </tr>\n",
       "    <tr>\n",
       "      <th>11979</th>\n",
       "      <td>302957</td>\n",
       "      <td>864691135697306778</td>\n",
       "      <td>90020659837046869</td>\n",
       "      <td>183456</td>\n",
       "      <td>202752</td>\n",
       "      <td>20953</td>\n",
       "      <td>4</td>\n",
       "      <td>7</td>\n",
       "      <td>7908</td>\n",
       "      <td>8</td>\n",
       "      <td>5P-ET</td>\n",
       "      <td>[183456, 202752, 20953]</td>\n",
       "    </tr>\n",
       "    <tr>\n",
       "      <th>11980</th>\n",
       "      <td>298916</td>\n",
       "      <td>864691135741494891</td>\n",
       "      <td>90155899901322754</td>\n",
       "      <td>184608</td>\n",
       "      <td>161808</td>\n",
       "      <td>21806</td>\n",
       "      <td>9</td>\n",
       "      <td>3</td>\n",
       "      <td>8134</td>\n",
       "      <td>6</td>\n",
       "      <td>4P</td>\n",
       "      <td>[184608, 161808, 21806]</td>\n",
       "    </tr>\n",
       "  </tbody>\n",
       "</table>\n",
       "</div>"
      ],
      "text/plain": [
       "           id          pt_root_id    pt_supervoxel_id  pt_position_x  \\\n",
       "11976  395416  864691135394864117   97825062761246370         240528   \n",
       "11977  485825  864691136966674894  105277895836000216         294512   \n",
       "11978  298963  864691135783565875   91354023978086624         193408   \n",
       "11979  302957  864691135697306778   90020659837046869         183456   \n",
       "11980  298916  864691135741494891   90155899901322754         184608   \n",
       "\n",
       "       pt_position_y  pt_position_z  session  scan_idx  unit_id  field  \\\n",
       "11976         154032          25770        9         3     2456      2   \n",
       "11977         107648          23083        5         6     1538      2   \n",
       "11978         175408          21696        6         7     6479      6   \n",
       "11979         202752          20953        4         7     7908      8   \n",
       "11980         161808          21806        9         3     8134      6   \n",
       "\n",
       "      cell_type              pt_position  \n",
       "11976        4P  [240528, 154032, 25770]  \n",
       "11977       23P  [294512, 107648, 23083]  \n",
       "11978        4P  [193408, 175408, 21696]  \n",
       "11979     5P-ET  [183456, 202752, 20953]  \n",
       "11980        4P  [184608, 161808, 21806]  "
      ]
     },
     "execution_count": 9,
     "metadata": {},
     "output_type": "execute_result"
    }
   ],
   "source": [
    "# inner join of coreg and cell types tables\n",
    "coreg_ct_table = pd.merge(coreg_table, ct_table,\n",
    "                        on = ['id','pt_root_id'],\n",
    "                        how='inner' )\n",
    "\n",
    "# remove cells not classified as excitatory\n",
    "coreg_ct_table.query(\"classification_system=='excitatory_neuron'\", inplace=True)\n",
    "coreg_ct_table.drop(columns=['classification_system'], inplace=True)\n",
    "\n",
    "coreg_ct_table.tail()"
   ]
  },
  {
   "cell_type": "markdown",
   "id": "9c2c2e02-fc7a-40e9-b62f-0e4121e29a9f",
   "metadata": {},
   "source": [
    "### exclude cells that are already proofread\n",
    "This merge identifies whether the `root_id` exists in the `both` dataframes, `left_only`, or `right_only`. We want `left_only`"
   ]
  },
  {
   "cell_type": "code",
   "execution_count": 12,
   "id": "5d3805ef-4d82-44cb-a296-5b2811643e30",
   "metadata": {
    "tags": []
   },
   "outputs": [
    {
     "data": {
      "text/html": [
       "<div>\n",
       "<style scoped>\n",
       "    .dataframe tbody tr th:only-of-type {\n",
       "        vertical-align: middle;\n",
       "    }\n",
       "\n",
       "    .dataframe tbody tr th {\n",
       "        vertical-align: top;\n",
       "    }\n",
       "\n",
       "    .dataframe thead th {\n",
       "        text-align: right;\n",
       "    }\n",
       "</style>\n",
       "<table border=\"1\" class=\"dataframe\">\n",
       "  <thead>\n",
       "    <tr style=\"text-align: right;\">\n",
       "      <th></th>\n",
       "      <th>id</th>\n",
       "      <th>pt_root_id</th>\n",
       "      <th>pt_supervoxel_id</th>\n",
       "      <th>pt_position_x</th>\n",
       "      <th>pt_position_y</th>\n",
       "      <th>pt_position_z</th>\n",
       "      <th>session</th>\n",
       "      <th>scan_idx</th>\n",
       "      <th>unit_id</th>\n",
       "      <th>field</th>\n",
       "      <th>cell_type</th>\n",
       "      <th>pt_position</th>\n",
       "    </tr>\n",
       "  </thead>\n",
       "  <tbody>\n",
       "    <tr>\n",
       "      <th>11904</th>\n",
       "      <td>395416.0</td>\n",
       "      <td>864691135394864117</td>\n",
       "      <td>9.782506e+16</td>\n",
       "      <td>240528.0</td>\n",
       "      <td>154032.0</td>\n",
       "      <td>25770.0</td>\n",
       "      <td>9.0</td>\n",
       "      <td>3.0</td>\n",
       "      <td>2456.0</td>\n",
       "      <td>2.0</td>\n",
       "      <td>4P</td>\n",
       "      <td>[240528, 154032, 25770]</td>\n",
       "    </tr>\n",
       "    <tr>\n",
       "      <th>11905</th>\n",
       "      <td>485825.0</td>\n",
       "      <td>864691136966674894</td>\n",
       "      <td>1.052779e+17</td>\n",
       "      <td>294512.0</td>\n",
       "      <td>107648.0</td>\n",
       "      <td>23083.0</td>\n",
       "      <td>5.0</td>\n",
       "      <td>6.0</td>\n",
       "      <td>1538.0</td>\n",
       "      <td>2.0</td>\n",
       "      <td>23P</td>\n",
       "      <td>[294512, 107648, 23083]</td>\n",
       "    </tr>\n",
       "    <tr>\n",
       "      <th>11906</th>\n",
       "      <td>298963.0</td>\n",
       "      <td>864691135783565875</td>\n",
       "      <td>9.135402e+16</td>\n",
       "      <td>193408.0</td>\n",
       "      <td>175408.0</td>\n",
       "      <td>21696.0</td>\n",
       "      <td>6.0</td>\n",
       "      <td>7.0</td>\n",
       "      <td>6479.0</td>\n",
       "      <td>6.0</td>\n",
       "      <td>4P</td>\n",
       "      <td>[193408, 175408, 21696]</td>\n",
       "    </tr>\n",
       "    <tr>\n",
       "      <th>11907</th>\n",
       "      <td>302957.0</td>\n",
       "      <td>864691135697306778</td>\n",
       "      <td>9.002066e+16</td>\n",
       "      <td>183456.0</td>\n",
       "      <td>202752.0</td>\n",
       "      <td>20953.0</td>\n",
       "      <td>4.0</td>\n",
       "      <td>7.0</td>\n",
       "      <td>7908.0</td>\n",
       "      <td>8.0</td>\n",
       "      <td>5P-ET</td>\n",
       "      <td>[183456, 202752, 20953]</td>\n",
       "    </tr>\n",
       "    <tr>\n",
       "      <th>11908</th>\n",
       "      <td>298916.0</td>\n",
       "      <td>864691135741494891</td>\n",
       "      <td>9.015590e+16</td>\n",
       "      <td>184608.0</td>\n",
       "      <td>161808.0</td>\n",
       "      <td>21806.0</td>\n",
       "      <td>9.0</td>\n",
       "      <td>3.0</td>\n",
       "      <td>8134.0</td>\n",
       "      <td>6.0</td>\n",
       "      <td>4P</td>\n",
       "      <td>[184608, 161808, 21806]</td>\n",
       "    </tr>\n",
       "  </tbody>\n",
       "</table>\n",
       "</div>"
      ],
      "text/plain": [
       "             id          pt_root_id  pt_supervoxel_id  pt_position_x  \\\n",
       "11904  395416.0  864691135394864117      9.782506e+16       240528.0   \n",
       "11905  485825.0  864691136966674894      1.052779e+17       294512.0   \n",
       "11906  298963.0  864691135783565875      9.135402e+16       193408.0   \n",
       "11907  302957.0  864691135697306778      9.002066e+16       183456.0   \n",
       "11908  298916.0  864691135741494891      9.015590e+16       184608.0   \n",
       "\n",
       "       pt_position_y  pt_position_z  session  scan_idx  unit_id  field  \\\n",
       "11904       154032.0        25770.0      9.0       3.0   2456.0    2.0   \n",
       "11905       107648.0        23083.0      5.0       6.0   1538.0    2.0   \n",
       "11906       175408.0        21696.0      6.0       7.0   6479.0    6.0   \n",
       "11907       202752.0        20953.0      4.0       7.0   7908.0    8.0   \n",
       "11908       161808.0        21806.0      9.0       3.0   8134.0    6.0   \n",
       "\n",
       "      cell_type              pt_position  \n",
       "11904        4P  [240528, 154032, 25770]  \n",
       "11905       23P  [294512, 107648, 23083]  \n",
       "11906        4P  [193408, 175408, 21696]  \n",
       "11907     5P-ET  [183456, 202752, 20953]  \n",
       "11908        4P  [184608, 161808, 21806]  "
      ]
     },
     "execution_count": 12,
     "metadata": {},
     "output_type": "execute_result"
    }
   ],
   "source": [
    "# merge with indicator option, to keep cells that are in coreg_ct_table but not prf_table\n",
    "coreg_ct_no_prf = pd.merge(coreg_ct_table, prf_table['pt_root_id'],\n",
    "                           on=['pt_root_id'],\n",
    "                           how='outer',\n",
    "                           indicator=True).query('_merge==\"left_only\"')\n",
    "\n",
    "coreg_ct_no_prf.drop(columns=['_merge'], inplace=True)\n",
    "\n",
    "coreg_ct_no_prf.tail()"
   ]
  },
  {
   "cell_type": "markdown",
   "id": "2c9fada8-41fd-40fc-8238-5b11ac6693a7",
   "metadata": {},
   "source": [
    "### select cells with soma centroids >100 microns from boundaries\n",
    "Now we uses the split columns we queried earlier. Given the resolution of the dataset (4x4x40 nm/voxel) we can find soma centroids that are 100 microns from the edge of the volume, enough to keep their dendritic arbors largely intact. "
   ]
  },
  {
   "cell_type": "code",
   "execution_count": 13,
   "id": "18f537ae-e13e-4d25-9751-bec91c5bdb1f",
   "metadata": {
    "tags": []
   },
   "outputs": [],
   "source": [
    "x_range = [coreg_ct_no_prf.pt_position_x.min(), coreg_ct_no_prf.pt_position_x.max()]\n",
    "y_range = [coreg_ct_no_prf.pt_position_y.min(), coreg_ct_no_prf.pt_position_y.max()]\n",
    "z_range = [coreg_ct_no_prf.pt_position_z.min(), coreg_ct_no_prf.pt_position_z.max()]\n",
    "\n",
    "edge_buffer_xy = 100*1000/voxel_resolution[0] # microns * 1000 / 4 nm resolution\n",
    "edge_buffer_z = 100*1000/voxel_resolution[2] # microns * 1000 / 40 nm resolution\n",
    "\n",
    "x_buffer = x_range + np.array([edge_buffer_xy, -edge_buffer_xy])\n",
    "y_buffer = y_range + np.array([edge_buffer_xy, -edge_buffer_xy])\n",
    "z_buffer = z_range + np.array([edge_buffer_z, -edge_buffer_z])"
   ]
  },
  {
   "cell_type": "code",
   "execution_count": 14,
   "id": "6c8dca28-9148-4379-b0ca-b4bf90acffd6",
   "metadata": {
    "tags": []
   },
   "outputs": [],
   "source": [
    "# Filter the cell table on soma position\n",
    "coreg_ct_no_prf.query('(pt_position_x>{}) & (pt_position_x<{})'.format(*x_buffer), inplace=True)\n",
    "coreg_ct_no_prf.query('(pt_position_z>{}) & (pt_position_z<{})'.format(*z_buffer), inplace=True)\n",
    "\n",
    "# Note: it was not necessary to filter by Y (depth) in this search"
   ]
  },
  {
   "cell_type": "markdown",
   "id": "d6009f56-7bbd-4e35-8880-085de54ae8ed",
   "metadata": {},
   "source": [
    "### Subselect 100 cells\n",
    "Perform a (seeded) random subsampling of the cells, and select 100 for further consideration"
   ]
  },
  {
   "cell_type": "code",
   "execution_count": 17,
   "id": "e03d25b1-b86f-43c1-b8c3-668e723c0a3e",
   "metadata": {
    "tags": []
   },
   "outputs": [],
   "source": [
    "# specify the rng seed for reproduction\n",
    "rng = np.random.default_rng(seed=20240326)\n",
    "\n",
    "## Random subsample\n",
    "coreg_ct_no_prf['shuffle'] = rng.permutation(len(coreg_ct_no_prf))\n",
    "coreg_ct_no_prf.sort_values('shuffle',ascending=True, inplace=True)\n",
    "\n",
    "# Take top 100\n",
    "selected_candidates = coreg_ct_no_prf.iloc[:100].copy()"
   ]
  },
  {
   "cell_type": "markdown",
   "id": "3eb30492-1371-4292-934e-1b67613f66be",
   "metadata": {},
   "source": [
    "## Create screening link (neuvue)\n",
    "We want to review the candidates in neuroglancer. The following makes a url link for the seung-lab branch of neuroglancer, specifying some of the annotation tools and viewer settings that are not the datastack default."
   ]
  },
  {
   "cell_type": "markdown",
   "id": "07839c65-db7d-4795-b18f-3a0a5da6d8bb",
   "metadata": {},
   "source": [
    "### statebuilders"
   ]
  },
  {
   "cell_type": "code",
   "execution_count": 18,
   "id": "086bfd99-8815-4cb4-bff7-79ec026faaec",
   "metadata": {
    "tags": []
   },
   "outputs": [],
   "source": [
    "from nglui.statebuilder import StateBuilder\n",
    "from nglui.statebuilder import ImageLayerConfig, SegmentationLayerConfig, AnnotationLayerConfig, PointMapper, LineMapper\n",
    "from nglui.statebuilder import helpers"
   ]
  },
  {
   "cell_type": "markdown",
   "id": "78861761-7d62-4105-be40-5be630056912",
   "metadata": {},
   "source": [
    "## Generate neuvue"
   ]
  },
  {
   "cell_type": "code",
   "execution_count": 20,
   "id": "9c12750f-3dd8-46af-b7b9-dc6efc532d88",
   "metadata": {
    "tags": []
   },
   "outputs": [
    {
     "data": {
      "text/plain": [
       "'https://neuroglancer.neuvue.io/?json_url=https://global.daf-apis.com//nglstate/api/v1/4506696414134272'"
      ]
     },
     "execution_count": 20,
     "metadata": {},
     "output_type": "execute_result"
    }
   ],
   "source": [
    "# Build the neuroglancer state\n",
    "img_source, seg_source = helpers.from_client(client)\n",
    "\n",
    "img_layer = ImageLayerConfig(\n",
    "    img_source.source,\n",
    ")\n",
    "seg_layer = SegmentationLayerConfig(\n",
    "        seg_source.source,\n",
    "        alpha_3d=0.5,\n",
    "    )\n",
    "\n",
    "## Add soma locations\n",
    "pt = PointMapper(\n",
    "    point_column='pt_position',\n",
    "    description_column='cell_type',\n",
    "    linked_segmentation_column='pt_root_id',\n",
    ")\n",
    "anno_soma = AnnotationLayerConfig(\n",
    "    name='soma',\n",
    "    mapping_rules=pt,\n",
    "    color='#FFFFFF',\n",
    "    linked_segmentation_layer='seg',\n",
    ")\n",
    "\n",
    "# Generate state\n",
    "sb = StateBuilder(layers=[img_layer, seg_layer, anno_soma])\n",
    "temp_state = sb.render_state(selected_candidates, return_as = 'dict')\n",
    "\n",
    "# Correct resolution\n",
    "temp_state['navigation']['pose']['position']['voxelSize'] = [4,4,40]\n",
    "\n",
    "# Manually add JSON state server\n",
    "temp_state['jsonStateServer'] = \"https://global.daf-apis.com/nglstate/api/v1/post\"\n",
    "\n",
    "# Manually add the annotaion tags\n",
    "temp_state['layers'][2]['annotationTags'] = [\n",
    "    {'id': 1, 'label': 'remove'},\n",
    "] \n",
    "\n",
    "# Generate the state with intermediate additions\n",
    "new_sb = StateBuilder(base_state=temp_state)\n",
    "url = helpers.make_url_robust(selected_candidates, new_sb, client, shorten='always')\n",
    "url"
   ]
  },
  {
   "cell_type": "markdown",
   "id": "1f41cc4e-2579-43c2-8d95-755e5ffcf1d6",
   "metadata": {},
   "source": [
    "## Export selected table\n",
    "Save the generated candidate-cell table in pickle format, and alternately as a .csv"
   ]
  },
  {
   "cell_type": "code",
   "execution_count": 21,
   "id": "29775fb8-d7f7-412b-9c1c-a30fd4043300",
   "metadata": {
    "tags": []
   },
   "outputs": [],
   "source": [
    "# save candidate cells in two formats\n",
    "selected_candidates.to_pickle('coreg_100_cells_240326.pkl')\n",
    "\n",
    "selected_candidates_csv = selected_candidates[['id','pt_root_id','pt_position','pt_supervoxel_id','cell_type']]\n",
    "selected_candidates_csv.to_csv('coreg_100_cells_240326.csv', index=False)"
   ]
  }
 ],
 "metadata": {
  "kernelspec": {
   "display_name": "microns",
   "language": "python",
   "name": "microns"
  },
  "language_info": {
   "codemirror_mode": {
    "name": "ipython",
    "version": 3
   },
   "file_extension": ".py",
   "mimetype": "text/x-python",
   "name": "python",
   "nbconvert_exporter": "python",
   "pygments_lexer": "ipython3",
   "version": "3.8.17"
  }
 },
 "nbformat": 4,
 "nbformat_minor": 5
}
