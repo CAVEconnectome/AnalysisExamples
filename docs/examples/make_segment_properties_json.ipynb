{
 "cells": [
  {
   "cell_type": "code",
   "execution_count": 1,
   "metadata": {},
   "outputs": [
    {
     "name": "stdout",
     "output_type": "stream",
     "text": [
      "Intel MKL WARNING: Support of Intel(R) Streaming SIMD Extensions 4.2 (Intel(R) SSE4.2) enabled only processors has been deprecated. Intel oneAPI Math Kernel Library 2025.0 will require Intel(R) Advanced Vector Extensions (Intel(R) AVX) instructions.\n",
      "Intel MKL WARNING: Support of Intel(R) Streaming SIMD Extensions 4.2 (Intel(R) SSE4.2) enabled only processors has been deprecated. Intel oneAPI Math Kernel Library 2025.0 will require Intel(R) Advanced Vector Extensions (Intel(R) AVX) instructions.\n"
     ]
    }
   ],
   "source": [
    "import caveclient\n",
    "import pandas as pd\n",
    "import numpy as np\n",
    "import nglui\n",
    "import json\n"
   ]
  },
  {
   "cell_type": "code",
   "execution_count": 2,
   "metadata": {},
   "outputs": [],
   "source": [
    "client = caveclient.CAVEclient('minnie65_phase3_v1')\n"
   ]
  },
  {
   "cell_type": "code",
   "execution_count": 10,
   "metadata": {},
   "outputs": [],
   "source": [
    "ct_df=client.materialize.query_table('aibs_metamodel_mtypes_v661')"
   ]
  },
  {
   "cell_type": "code",
   "execution_count": null,
   "metadata": {},
   "outputs": [],
   "source": []
  },
  {
   "cell_type": "code",
   "execution_count": 11,
   "metadata": {},
   "outputs": [],
   "source": [
    "# spec of a segment info file here\n",
    "# https://github.com/google/neuroglancer/blob/master/src/datasource/precomputed/segment_properties.md\n",
    "\n",
    "def make_tag_entry(taglists, tagdescription_ds, description=\"tags\"):\n",
    "    unique_tag_lists = [np.unique(tl).tolist() for tl in taglists]\n",
    "    \n",
    "    # concatenate all unique tag lists\n",
    "    unique_tags = np.concatenate(unique_tag_lists).tolist()\n",
    "\n",
    "    # for each unique_tag_list get the description\n",
    "    unique_tag_descs = [[tag_d[t] for t in tl] for tl, tag_d in zip(unique_tag_lists, tagdescription_ds)]\n",
    "\n",
    "    # concatenate all unique tag descriptions\n",
    "    unique_tag_desc = np.concatenate(unique_tag_descs).tolist()\n",
    "\n",
    "    # for each tag list, get the indices of the unique tags\n",
    "    tag_indices = [[unique_tags.index(t) for t in tl] for tl in taglists]\n",
    "    tag_indices = [list(tags) for tags in zip(*tag_indices)]\n",
    "    return {\"id\": \"tags\",\n",
    "            \"type\": \"tags\",\n",
    "            \"description\": description,\n",
    "            \"tags\": unique_tags,\n",
    "            \"tag_descriptions\": unique_tag_desc,\n",
    "            \"values\": tag_indices\n",
    "           }\n",
    "\n",
    "unique_ct = ct_df.cell_type.unique()\n",
    "unique_class = ct_df.classification_system.unique()\n",
    "\n",
    "ct_desc = {c:c for c in unique_ct}\n",
    "ct_desc['PTC'] = 'Proximal targetting interneuron'\n",
    "ct_desc['DTC'] = \"Distal targetting interneuron\"\n",
    "ct_desc['ITC'] = \"Interneuron targetting interneuron\"\n",
    "ct_desc['STC'] = \"Sparsely targetting interneuron\"\n",
    "ct_desc['L5NP']= \"Layer 5 Near Projecting\"\n",
    "\n",
    "cell_class_desc = {c:c for c in unique_class}\n",
    "\n",
    "\n",
    "tag_entry=make_tag_entry([ct_df.cell_type, ct_df.classification_system],\n",
    "                          [ct_desc, cell_class_desc])\n",
    "\n",
    "segment_info ={\"@type\":  \"neuroglancer_segment_properties\",\n",
    "        \"inline\": {\n",
    "            \"ids\": [str(i) for i in ct_df.pt_root_id.values.tolist()],\n",
    "            \"properties\": [\n",
    "                {\"id\": \"label\",\n",
    "                 \"type\": \"label\",\n",
    "                 \"description\": \"filename\",\n",
    "                 \"values\": [str(v) for v in ct_df.pt_root_id.values]},\n",
    "                tag_entry,\n",
    "            ]\n",
    "        }\n",
    "}"
   ]
  },
  {
   "cell_type": "code",
   "execution_count": 12,
   "metadata": {},
   "outputs": [],
   "source": [
    "segment_id= client.state.upload_property_json(segment_info)"
   ]
  },
  {
   "cell_type": "code",
   "execution_count": 13,
   "metadata": {},
   "outputs": [],
   "source": [
    "state = client.state"
   ]
  },
  {
   "cell_type": "code",
   "execution_count": 19,
   "metadata": {},
   "outputs": [
    {
     "data": {
      "text/plain": [
       "'precomputed://middleauth+https://global.daf-apis.com/nglstate/api/v1/property/5281172886126592'"
      ]
     },
     "execution_count": 19,
     "metadata": {},
     "output_type": "execute_result"
    }
   ],
   "source": [
    "# this is what you want to add to a neuroglancer segmentation source layer using the plus button\n",
    "state.build_neuroglancer_url(segment_id, ngl_url = \"https://spelunker.cave-explorer.org\", format_propeties=True)"
   ]
  },
  {
   "cell_type": "code",
   "execution_count": 5,
   "metadata": {},
   "outputs": [],
   "source": [
    "# if you wanted to localhost test instead\n",
    "\n",
    "# write the segment info to a file\n",
    "segment_info_file = \"info\"\n",
    "with open(segment_info_file, \"w\") as f:\n",
    "    json.dump(segment_info, f)\n",
    "\n",
    "server = neuroglancer.static_file_server.StaticFileServer(\n",
    "        static_dir='.', bind_address= \"127.0.0.1\", daemon=True\n",
    "    )\n",
    "\n",
    "# this is what you want to enter into neuroglancer\n",
    "# hit plus under the source of the segmentation layer you want\n",
    "# to add these segment properties to and paste in \n",
    "'precomputed://'+server.url"
   ]
  },
  {
   "cell_type": "code",
   "execution_count": 6,
   "metadata": {},
   "outputs": [],
   "source": []
  },
  {
   "cell_type": "code",
   "execution_count": 7,
   "metadata": {},
   "outputs": [
    {
     "data": {
      "text/plain": [
       "'precomputed://http://127.0.0.1:59221/7695f672e1ea946d4377593b7b814844183c0e93'"
      ]
     },
     "execution_count": 7,
     "metadata": {},
     "output_type": "execute_result"
    }
   ],
   "source": []
  },
  {
   "cell_type": "code",
   "execution_count": null,
   "metadata": {},
   "outputs": [],
   "source": []
  }
 ],
 "metadata": {
  "kernelspec": {
   "display_name": "caveclient",
   "language": "python",
   "name": "python3"
  },
  "language_info": {
   "codemirror_mode": {
    "name": "ipython",
    "version": 3
   },
   "file_extension": ".py",
   "mimetype": "text/x-python",
   "name": "python",
   "nbconvert_exporter": "python",
   "pygments_lexer": "ipython3",
   "version": "3.9.16"
  }
 },
 "nbformat": 4,
 "nbformat_minor": 2
}
